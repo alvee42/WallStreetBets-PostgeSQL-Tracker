{
 "cells": [
  {
   "cell_type": "markdown",
   "metadata": {},
   "source": [
    "# WallStreetBets Tracker with PostgreSQL\n",
    "#### Alvee Hoque 06/08/21\n",
    "\n",
    "Tasks:\n",
    "- Create SQL tables\n",
    "- Populate stocks/etfs\n",
    "- Get tickers from WallStreetBets subreddit \n",
    "- Get price data from yfinance\n",
    "\n"
   ]
  },
  {
   "cell_type": "markdown",
   "metadata": {},
   "source": [
    "## Imports"
   ]
  },
  {
   "cell_type": "code",
   "execution_count": 1,
   "metadata": {},
   "outputs": [],
   "source": [
    "# import config file\n",
    "import config\n",
    "\n",
    "# import postgresql packages\n",
    "import psycopg2\n",
    "import psycopg2.extras\n",
    "\n",
    "# imports\n",
    "import pandas as pd \n",
    "import numpy as np\n",
    "import seaborn as sns\n",
    "\n",
    "# price collection \n",
    "import yfinance as yf\n",
    "\n",
    "# imports for reddit and datetime/text manipulation\n",
    "import praw\n",
    "import datetime\n",
    "import re"
   ]
  },
  {
   "cell_type": "code",
   "execution_count": 2,
   "metadata": {},
   "outputs": [],
   "source": [
    "sns.set(rc={'figure.figsize':(12,6)})\n",
    "sns.set_style('darkgrid')"
   ]
  },
  {
   "cell_type": "markdown",
   "metadata": {},
   "source": [
    "## Create Tables"
   ]
  },
  {
   "cell_type": "code",
   "execution_count": 3,
   "metadata": {},
   "outputs": [],
   "source": [
    "# Establish connection and cursor\n",
    "con = psycopg2.connect(database=config.db,user=config.db_user,password=config.db_password)\n",
    "con.autocommit = True\n",
    "# dictionary cursor easier to work with \n",
    "cursor = con.cursor(cursor_factory=psycopg2.extras.DictCursor)"
   ]
  },
  {
   "cell_type": "code",
   "execution_count": 4,
   "metadata": {},
   "outputs": [
    {
     "name": "stdout",
     "output_type": "stream",
     "text": [
      "Stock table created\n",
      "Price table created\n",
      "Hot table created\n"
     ]
    }
   ],
   "source": [
    "# create tables: \n",
    "\n",
    "create_stocks = '''\n",
    "CREATE TABLE IF NOT EXISTS stocks \n",
    "(id SERIAL,\n",
    "symbol TEXT NOT NULL PRIMARY KEY,\n",
    "name TEXT NOT NULL,\n",
    "sector TEXT NOT NULL,\n",
    "industry TEXT NOT NULL);\n",
    "'''\n",
    "\n",
    "create_price ='''\n",
    "CREATE TABLE IF NOT EXISTS price \n",
    "(symbol TEXT NOT NULL, \n",
    "datetime TIMESTAMP WITHOUT TIME ZONE NOT NULL,\n",
    "open NUMERIC NOT NULL,\n",
    "high NUMERIC NOT NULL,\n",
    "low NUMERIC NOT NULL,\n",
    "close NUMERIC NOT NULL,\n",
    "constraint fk_stock foreign key(symbol) references stocks(symbol)); \n",
    "'''\n",
    "\n",
    "create_hot = '''\n",
    "CREATE TABLE IF NOT EXISTS hot \n",
    "(symbol TEXT NOT NULL,\n",
    "datetime TIMESTAMP WITHOUT TIME ZONE NOT NULL,\n",
    "post TEXT NOT NULL, \n",
    "source TEXT NOT NULL,\n",
    "url TEXT NOT NULL,\n",
    "constraint fk_stock foreign key(symbol) references stocks(symbol)); '''\n",
    "\n",
    "\n",
    "cursor.execute(create_stocks)\n",
    "print('Stock table created')\n",
    "\n",
    "cursor.execute(create_price)\n",
    "print('Price table created')\n",
    "\n",
    "cursor.execute(create_hot)\n",
    "print('Hot table created')\n"
   ]
  },
  {
   "cell_type": "markdown",
   "metadata": {},
   "source": [
    "## Populate Stocks"
   ]
  },
  {
   "cell_type": "code",
   "execution_count": 5,
   "metadata": {},
   "outputs": [
    {
     "data": {
      "text/html": [
       "<div>\n",
       "<style scoped>\n",
       "    .dataframe tbody tr th:only-of-type {\n",
       "        vertical-align: middle;\n",
       "    }\n",
       "\n",
       "    .dataframe tbody tr th {\n",
       "        vertical-align: top;\n",
       "    }\n",
       "\n",
       "    .dataframe thead th {\n",
       "        text-align: right;\n",
       "    }\n",
       "</style>\n",
       "<table border=\"1\" class=\"dataframe\">\n",
       "  <thead>\n",
       "    <tr style=\"text-align: right;\">\n",
       "      <th></th>\n",
       "      <th>Symbol</th>\n",
       "      <th>Name</th>\n",
       "      <th>Last Sale</th>\n",
       "      <th>Net Change</th>\n",
       "      <th>% Change</th>\n",
       "      <th>Market Cap</th>\n",
       "      <th>Country</th>\n",
       "      <th>IPO Year</th>\n",
       "      <th>Volume</th>\n",
       "      <th>Sector</th>\n",
       "      <th>Industry</th>\n",
       "    </tr>\n",
       "  </thead>\n",
       "  <tbody>\n",
       "    <tr>\n",
       "      <th>0</th>\n",
       "      <td>AACG</td>\n",
       "      <td>ATA Creativity Global American Depositary Shares</td>\n",
       "      <td>$2.81</td>\n",
       "      <td>-0.28</td>\n",
       "      <td>-9.061%</td>\n",
       "      <td>8.908034e+07</td>\n",
       "      <td>China</td>\n",
       "      <td>NaN</td>\n",
       "      <td>228677</td>\n",
       "      <td>Consumer Services</td>\n",
       "      <td>Other Consumer Services</td>\n",
       "    </tr>\n",
       "    <tr>\n",
       "      <th>1</th>\n",
       "      <td>AACQ</td>\n",
       "      <td>Artius Acquisition Inc. Class A Common Stock</td>\n",
       "      <td>$10.01</td>\n",
       "      <td>-0.03</td>\n",
       "      <td>-0.299%</td>\n",
       "      <td>9.065306e+08</td>\n",
       "      <td>United States</td>\n",
       "      <td>2020.0</td>\n",
       "      <td>1147413</td>\n",
       "      <td>Basic Industries</td>\n",
       "      <td>Major Chemicals</td>\n",
       "    </tr>\n",
       "    <tr>\n",
       "      <th>2</th>\n",
       "      <td>AACQU</td>\n",
       "      <td>Artius Acquisition Inc. Unit</td>\n",
       "      <td>$10.50</td>\n",
       "      <td>-0.05</td>\n",
       "      <td>-0.474%</td>\n",
       "      <td>0.000000e+00</td>\n",
       "      <td>United States</td>\n",
       "      <td>2020.0</td>\n",
       "      <td>29390</td>\n",
       "      <td>Basic Industries</td>\n",
       "      <td>Major Chemicals</td>\n",
       "    </tr>\n",
       "    <tr>\n",
       "      <th>3</th>\n",
       "      <td>AACQW</td>\n",
       "      <td>Artius Acquisition Inc Warrant</td>\n",
       "      <td>$1.63</td>\n",
       "      <td>-0.02</td>\n",
       "      <td>-1.212%</td>\n",
       "      <td>0.000000e+00</td>\n",
       "      <td>United States</td>\n",
       "      <td>2020.0</td>\n",
       "      <td>285263</td>\n",
       "      <td>Basic Industries</td>\n",
       "      <td>Major Chemicals</td>\n",
       "    </tr>\n",
       "    <tr>\n",
       "      <th>4</th>\n",
       "      <td>AAL</td>\n",
       "      <td>American Airlines Group Inc. Common Stock</td>\n",
       "      <td>$22.03</td>\n",
       "      <td>-0.10</td>\n",
       "      <td>-0.452%</td>\n",
       "      <td>1.412948e+10</td>\n",
       "      <td>United States</td>\n",
       "      <td>NaN</td>\n",
       "      <td>25908689</td>\n",
       "      <td>Transportation</td>\n",
       "      <td>Air Freight/Delivery Services</td>\n",
       "    </tr>\n",
       "  </tbody>\n",
       "</table>\n",
       "</div>"
      ],
      "text/plain": [
       "  Symbol                                              Name Last Sale  \\\n",
       "0   AACG  ATA Creativity Global American Depositary Shares     $2.81   \n",
       "1   AACQ      Artius Acquisition Inc. Class A Common Stock    $10.01   \n",
       "2  AACQU                     Artius Acquisition Inc. Unit     $10.50   \n",
       "3  AACQW                    Artius Acquisition Inc Warrant     $1.63   \n",
       "4    AAL         American Airlines Group Inc. Common Stock    $22.03   \n",
       "\n",
       "   Net Change % Change    Market Cap        Country  IPO Year    Volume  \\\n",
       "0       -0.28  -9.061%  8.908034e+07          China       NaN    228677   \n",
       "1       -0.03  -0.299%  9.065306e+08  United States    2020.0   1147413   \n",
       "2       -0.05  -0.474%  0.000000e+00  United States    2020.0     29390   \n",
       "3       -0.02  -1.212%  0.000000e+00  United States    2020.0    285263   \n",
       "4       -0.10  -0.452%  1.412948e+10  United States       NaN  25908689   \n",
       "\n",
       "              Sector                       Industry  \n",
       "0  Consumer Services        Other Consumer Services  \n",
       "1   Basic Industries                Major Chemicals  \n",
       "2   Basic Industries                Major Chemicals  \n",
       "3   Basic Industries                Major Chemicals  \n",
       "4     Transportation  Air Freight/Delivery Services  "
      ]
     },
     "execution_count": 5,
     "metadata": {},
     "output_type": "execute_result"
    }
   ],
   "source": [
    "# read csv file all_tickers\n",
    "all_tickers = pd.read_csv('all_tickers.csv')\n",
    "all_tickers.head()"
   ]
  },
  {
   "cell_type": "code",
   "execution_count": 6,
   "metadata": {},
   "outputs": [],
   "source": [
    "# all_tickers[['Symbol','Name']]"
   ]
  },
  {
   "cell_type": "code",
   "execution_count": 7,
   "metadata": {},
   "outputs": [],
   "source": [
    "# Populate Stocks Table with symbol,name,sector,industry \n",
    "for i in range(len(all_tickers)):\n",
    "    cursor.execute('''INSERT INTO stocks (symbol, name, sector, industry)\n",
    "    VALUES (%s, %s, %s, %s)''', (all_tickers.Symbol[i], all_tickers.Name[i], all_tickers.Sector[i], all_tickers.Industry[i]))"
   ]
  },
  {
   "cell_type": "markdown",
   "metadata": {},
   "source": [
    "## Populate ETF\n"
   ]
  },
  {
   "cell_type": "code",
   "execution_count": 8,
   "metadata": {},
   "outputs": [
    {
     "data": {
      "text/html": [
       "<div>\n",
       "<style scoped>\n",
       "    .dataframe tbody tr th:only-of-type {\n",
       "        vertical-align: middle;\n",
       "    }\n",
       "\n",
       "    .dataframe tbody tr th {\n",
       "        vertical-align: top;\n",
       "    }\n",
       "\n",
       "    .dataframe thead th {\n",
       "        text-align: right;\n",
       "    }\n",
       "</style>\n",
       "<table border=\"1\" class=\"dataframe\">\n",
       "  <thead>\n",
       "    <tr style=\"text-align: right;\">\n",
       "      <th></th>\n",
       "      <th>Symbol</th>\n",
       "      <th>Name</th>\n",
       "      <th>Index</th>\n",
       "      <th>Market cap</th>\n",
       "      <th>Current yield</th>\n",
       "      <th>Avg Volume</th>\n",
       "      <th>Action</th>\n",
       "    </tr>\n",
       "  </thead>\n",
       "  <tbody>\n",
       "    <tr>\n",
       "      <th>0</th>\n",
       "      <td>SPY</td>\n",
       "      <td>SPDR S&amp;P 500 ETF</td>\n",
       "      <td>S&amp;P 500 Index</td>\n",
       "      <td>$366,017,985,000</td>\n",
       "      <td>1.33%</td>\n",
       "      <td>68,176,867</td>\n",
       "      <td>Analyze</td>\n",
       "    </tr>\n",
       "    <tr>\n",
       "      <th>1</th>\n",
       "      <td>IVV</td>\n",
       "      <td>iShares Core S&amp;P 500 Index Fund ETF</td>\n",
       "      <td>S&amp;P 500 Index</td>\n",
       "      <td>$277,915,140,000</td>\n",
       "      <td>1.35%</td>\n",
       "      <td>4,643,738</td>\n",
       "      <td>Analyze</td>\n",
       "    </tr>\n",
       "    <tr>\n",
       "      <th>2</th>\n",
       "      <td>VTI</td>\n",
       "      <td>Vanguard Total Stock Market ETF</td>\n",
       "      <td>CRSP US Total Market Index</td>\n",
       "      <td>$234,253,476,097</td>\n",
       "      <td>1.30%</td>\n",
       "      <td>3,839,977</td>\n",
       "      <td>Analyze</td>\n",
       "    </tr>\n",
       "    <tr>\n",
       "      <th>3</th>\n",
       "      <td>VOO</td>\n",
       "      <td>Vanguard S&amp;P 500 ETF</td>\n",
       "      <td>S&amp;P 500 Index</td>\n",
       "      <td>$216,368,492,031</td>\n",
       "      <td>1.40%</td>\n",
       "      <td>3,836,766</td>\n",
       "      <td>Analyze</td>\n",
       "    </tr>\n",
       "    <tr>\n",
       "      <th>4</th>\n",
       "      <td>QQQ</td>\n",
       "      <td>Invesco QQQ ETF</td>\n",
       "      <td>NASDAQ-100 Index</td>\n",
       "      <td>$158,312,784,500</td>\n",
       "      <td>0.53%</td>\n",
       "      <td>33,846,971</td>\n",
       "      <td>Analyze</td>\n",
       "    </tr>\n",
       "  </tbody>\n",
       "</table>\n",
       "</div>"
      ],
      "text/plain": [
       "  Symbol                                 Name                       Index  \\\n",
       "0    SPY                     SPDR S&P 500 ETF               S&P 500 Index   \n",
       "1    IVV  iShares Core S&P 500 Index Fund ETF               S&P 500 Index   \n",
       "2    VTI      Vanguard Total Stock Market ETF  CRSP US Total Market Index   \n",
       "3    VOO                 Vanguard S&P 500 ETF               S&P 500 Index   \n",
       "4    QQQ                      Invesco QQQ ETF            NASDAQ-100 Index   \n",
       "\n",
       "         Market cap Current yield  Avg Volume   Action  \n",
       "0  $366,017,985,000         1.33%  68,176,867  Analyze  \n",
       "1  $277,915,140,000         1.35%   4,643,738  Analyze  \n",
       "2  $234,253,476,097         1.30%   3,839,977  Analyze  \n",
       "3  $216,368,492,031         1.40%   3,836,766  Analyze  \n",
       "4  $158,312,784,500         0.53%  33,846,971  Analyze  "
      ]
     },
     "execution_count": 8,
     "metadata": {},
     "output_type": "execute_result"
    }
   ],
   "source": [
    "# read etf list \n",
    "etf = pd.read_csv('top_100_etf.csv')\n",
    "etf.head()"
   ]
  },
  {
   "cell_type": "code",
   "execution_count": 9,
   "metadata": {},
   "outputs": [
    {
     "data": {
      "text/html": [
       "<div>\n",
       "<style scoped>\n",
       "    .dataframe tbody tr th:only-of-type {\n",
       "        vertical-align: middle;\n",
       "    }\n",
       "\n",
       "    .dataframe tbody tr th {\n",
       "        vertical-align: top;\n",
       "    }\n",
       "\n",
       "    .dataframe thead th {\n",
       "        text-align: right;\n",
       "    }\n",
       "</style>\n",
       "<table border=\"1\" class=\"dataframe\">\n",
       "  <thead>\n",
       "    <tr style=\"text-align: right;\">\n",
       "      <th></th>\n",
       "      <th>Symbol</th>\n",
       "      <th>Name</th>\n",
       "      <th>Sector</th>\n",
       "      <th>Industry</th>\n",
       "    </tr>\n",
       "  </thead>\n",
       "  <tbody>\n",
       "    <tr>\n",
       "      <th>0</th>\n",
       "      <td>SPY</td>\n",
       "      <td>SPDR S&amp;P 500 ETF</td>\n",
       "      <td>S&amp;P 500 Index</td>\n",
       "      <td>ETF</td>\n",
       "    </tr>\n",
       "    <tr>\n",
       "      <th>1</th>\n",
       "      <td>IVV</td>\n",
       "      <td>iShares Core S&amp;P 500 Index Fund ETF</td>\n",
       "      <td>S&amp;P 500 Index</td>\n",
       "      <td>ETF</td>\n",
       "    </tr>\n",
       "    <tr>\n",
       "      <th>2</th>\n",
       "      <td>VTI</td>\n",
       "      <td>Vanguard Total Stock Market ETF</td>\n",
       "      <td>CRSP US Total Market Index</td>\n",
       "      <td>ETF</td>\n",
       "    </tr>\n",
       "    <tr>\n",
       "      <th>3</th>\n",
       "      <td>VOO</td>\n",
       "      <td>Vanguard S&amp;P 500 ETF</td>\n",
       "      <td>S&amp;P 500 Index</td>\n",
       "      <td>ETF</td>\n",
       "    </tr>\n",
       "    <tr>\n",
       "      <th>4</th>\n",
       "      <td>QQQ</td>\n",
       "      <td>Invesco QQQ ETF</td>\n",
       "      <td>NASDAQ-100 Index</td>\n",
       "      <td>ETF</td>\n",
       "    </tr>\n",
       "  </tbody>\n",
       "</table>\n",
       "</div>"
      ],
      "text/plain": [
       "  Symbol                                 Name                      Sector  \\\n",
       "0    SPY                     SPDR S&P 500 ETF               S&P 500 Index   \n",
       "1    IVV  iShares Core S&P 500 Index Fund ETF               S&P 500 Index   \n",
       "2    VTI      Vanguard Total Stock Market ETF  CRSP US Total Market Index   \n",
       "3    VOO                 Vanguard S&P 500 ETF               S&P 500 Index   \n",
       "4    QQQ                      Invesco QQQ ETF            NASDAQ-100 Index   \n",
       "\n",
       "  Industry  \n",
       "0      ETF  \n",
       "1      ETF  \n",
       "2      ETF  \n",
       "3      ETF  \n",
       "4      ETF  "
      ]
     },
     "execution_count": 9,
     "metadata": {},
     "output_type": "execute_result"
    }
   ],
   "source": [
    "# Make sector/industry into etf so it is compatible with stock table\n",
    "etf = etf[['Symbol','Name','Index']]\n",
    "etf['Industry'] = 'ETF'\n",
    "etf.rename(columns={'Index':'Sector'},inplace=True)\n",
    "etf.head()"
   ]
  },
  {
   "cell_type": "code",
   "execution_count": 10,
   "metadata": {},
   "outputs": [],
   "source": [
    "# Put into SQL Table\n",
    "for i in range(len(etf)):\n",
    "    cursor.execute('''INSERT INTO stocks (symbol, name, sector, industry)\n",
    "    VALUES (%s, %s, %s, %s)''', (etf.Symbol[i], etf.Name[i], etf.Sector[i], etf.Industry[i]))"
   ]
  },
  {
   "cell_type": "code",
   "execution_count": 11,
   "metadata": {},
   "outputs": [],
   "source": [
    "# Combine Symbols for Stocks and ETFs \n",
    "symbols = pd.concat((all_tickers,etf))\n",
    "symbols = symbols['Symbol'].tolist()"
   ]
  },
  {
   "cell_type": "markdown",
   "metadata": {},
   "source": [
    "## WallStreetBets Trending Tickers "
   ]
  },
  {
   "cell_type": "code",
   "execution_count": 12,
   "metadata": {},
   "outputs": [],
   "source": [
    "# Reddit Keys\n",
    "client_id = config.client_id  \n",
    "client_secret = config.client_secret \n",
    "reddit = praw.Reddit(client_id=client_id,\n",
    "                     client_secret=client_secret,\n",
    "                     user_agent = 'Mozilla/5.0 (Windows NT 10.0; Win64; x64) AppleWebKit/537.36 (KHTML, like Gecko) Chrome/90.0.4430.72 Safari/537.36')"
   ]
  },
  {
   "cell_type": "code",
   "execution_count": 13,
   "metadata": {},
   "outputs": [],
   "source": [
    "subreddit = reddit.subreddit('wallstreetbets')\n",
    "\n",
    "# list of non tickers\n",
    "not_tickers = ['A','B','GO','ARE','ON','YOU','DD','YOLO','OK','TD']"
   ]
  },
  {
   "cell_type": "code",
   "execution_count": 14,
   "metadata": {},
   "outputs": [],
   "source": [
    "for post in subreddit.top('week',limit=2500):\n",
    "    ticker = []\n",
    "    \n",
    "    # post title\n",
    "    title = post.title\n",
    "    \n",
    "    # split into words, search for first ticker mentioned\n",
    "    words = re.sub(r'[^\\w\\s]', '', title)\n",
    "    words = words.split(' ')\n",
    "    \n",
    "    for word in words: \n",
    "        if word in symbols and word not in not_tickers:\n",
    "            ticker = word\n",
    "            break\n",
    "        else: \n",
    "            ticker = None \n",
    "    \n",
    "\n",
    "    # change datetime:\n",
    "    post_time = datetime.datetime.fromtimestamp(post.created_utc).isoformat()\n",
    "    \n",
    "    if ticker != None:\n",
    "    \n",
    "         cursor.execute(\"\"\"INSERT INTO hot (symbol, datetime, post, source, url)\n",
    "                    VALUES (%s, %s, %s, 'wsb', %s )\n",
    "                    \"\"\", (ticker, post_time, post.title,post.url))\n",
    "    "
   ]
  },
  {
   "cell_type": "markdown",
   "metadata": {},
   "source": [
    "## Top 10 Trending Tickers "
   ]
  },
  {
   "cell_type": "code",
   "execution_count": 15,
   "metadata": {},
   "outputs": [
    {
     "data": {
      "text/plain": [
       "<matplotlib.axes._subplots.AxesSubplot at 0x167177ca508>"
      ]
     },
     "execution_count": 15,
     "metadata": {},
     "output_type": "execute_result"
    },
    {
     "data": {
      "image/png": "[encoded data removed]",
      "text/plain": [
       "<Figure size 864x432 with 1 Axes>"
      ]
     },
     "metadata": {},
     "output_type": "display_data"
    }
   ],
   "source": [
    "# Collect Data\n",
    "cursor.execute(\"\"\"SELECT * FROM hot\"\"\")\n",
    "data = cursor.fetchall()\n",
    "\n",
    "# Put in Dataframe \n",
    "wsb_df = pd.DataFrame(data,columns=['symbol','datetime','post','source','url'])\n",
    "\n",
    "# Countplot of Top 10 Trending \n",
    "sns.countplot(x=wsb_df['symbol'], order=wsb_df.symbol.value_counts().index[:10])"
   ]
  },
  {
   "cell_type": "code",
   "execution_count": 16,
   "metadata": {},
   "outputs": [],
   "source": [
    "# GET TOP 10 DAILY PRICE AND INSERT INTO SQL DATABASE"
   ]
  },
  {
   "cell_type": "code",
   "execution_count": 17,
   "metadata": {},
   "outputs": [
    {
     "name": "stdout",
     "output_type": "stream",
     "text": [
      "[*********************100%***********************]  10 of 10 completed\n"
     ]
    }
   ],
   "source": [
    "# Inserting Price Into SQL for Future Analysis \n",
    "top_10 = wsb_df['symbol'].value_counts()[:10].index.tolist()\n",
    "tickers = yf.Tickers(top_10)\n",
    "df = tickers.history(period='1y',auto_adjust=True,actions=False,group_by='Ticker')\n",
    "df = df.round(2)\n",
    "\n",
    "for i in range(len(top_10)):\n",
    "    ticker = df.columns.levels[0][i]\n",
    "    \n",
    "    \n",
    "    for j in range(len(df)):\n",
    "        cursor.execute('''INSERT INTO price (symbol, datetime, open, high, low, close)\n",
    "        VALUES (%s, %s, %s, %s, %s, %s)''', (ticker, df.index[j], \n",
    "                                             df[ticker].Open[j], df[ticker].High[j], \n",
    "                                             df[ticker].Low[j], df[ticker].Close[j]))\n"
   ]
  }
 ],
 "metadata": {
  "kernelspec": {
   "display_name": "Python 3",
   "language": "python",
   "name": "python3"
  },
  "language_info": {
   "codemirror_mode": {
    "name": "ipython",
    "version": 3
   },
   "file_extension": ".py",
   "mimetype": "text/x-python",
   "name": "python",
   "nbconvert_exporter": "python",
   "pygments_lexer": "ipython3",
   "version": "3.7.6"
  }
 },
 "nbformat": 4,
 "nbformat_minor": 4
}
